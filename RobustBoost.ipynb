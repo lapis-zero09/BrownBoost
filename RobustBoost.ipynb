{
 "cells": [
  {
   "cell_type": "code",
   "execution_count": 6,
   "metadata": {
    "ExecuteTime": {
     "end_time": "2018-04-05T13:17:51.083518Z",
     "start_time": "2018-04-05T13:17:50.305910Z"
    },
    "collapsed": true
   },
   "outputs": [],
   "source": [
    "import math\n",
    "import numpy as np\n",
    "from scipy import special\n",
    "import random\n",
    "import copy as cp"
   ]
  },
  {
   "cell_type": "code",
   "execution_count": null,
   "metadata": {
    "collapsed": true
   },
   "outputs": [],
   "source": [
    "class RobustBoost:\n",
    "    def __init__(self, base_estimator, epsilon=0.25, theta=1.0, sigma=0.1, max_iter=10000):\n",
    "        \"\"\" Initiates BrownBoost classifier\n",
    "\n",
    "        Parameters\n",
    "        ----------\n",
    "        base_estimator: classifier from scikit-learn\n",
    "            The base leaner in ensemble\n",
    "        c: int or float\n",
    "            A positive real value\n",
    "            default = 10\n",
    "        convergence_criterion: float\n",
    "            A small constant(>0) used to avoid degenerate cases.\n",
    "            default = 0.0001\n",
    "        \"\"\"\n",
    "        self.base_estimator = base_estimator\n",
    "        self.epsilon = epsilon\n",
    "        self.theta = theta\n",
    "        self.sigma = sigma\n",
    "        self.max_iter = max_iter\n",
    "        self.alphas = []\n",
    "        self.hs = []\n",
    "        self.ss = []\n",
    "        self.rho = 0.\n",
    "\n",
    "    def fit(self, X, y):\n",
    "        \"\"\" Trains the classifier\n",
    "        Parameters\n",
    "        ----------\n",
    "        X: ndarray\n",
    "            The training instances\n",
    "        y: ndarray\n",
    "            The target values for The training instances\n",
    "\n",
    "        returns\n",
    "        --------\n",
    "            self\n",
    "        \"\"\"\n",
    "\n",
    "        # Initiate parameters\n",
    "        self.__init__(base_estimator=self.base_estimator,\n",
    "                      epsilon=self.epsilon,\n",
    "                      theta=self.theta,\n",
    "                      sigma=self.sigma,\n",
    "                      max_iter=self.max_iter)\n",
    "\n",
    "        m_t = 0.\n",
    "        m_t_old = 0.\n",
    "        m_last_ds = 0\n",
    "        m_last_dt = 0\n",
    "\n",
    "        # equation 8\n",
    "        self.rho = self._calculate_rho()\n",
    "\n",
    "        while t < 1:\n",
    "            m_weights_old = cp.deepcopy(m_weights)\n",
    "            m_t_old = m_t\n",
    "\n",
    "            h = cp.deepcopy(self.base_estimator)\n",
    "            h.fit(X, y, sample_weight=w)\n",
    "            pred = h.predict(X)\n",
    "\n",
    "            if 1 - m_t < 0.001:\n",
    "                continue\n",
    "\n",
    "            # prepare for using NewtonRaphson\n",
    "            foundSolution = false\n",
    "            mask = np.where(pred == 1, True, False)\n",
    "            ns = NewronRaphsonSolver(self.m_t, mask, value)\n",
    "\n",
    "            # 1. go as far in the future as possible\n",
    "            init_dt = 1 - m_t\n",
    "            init_ds = math.sqrt(init_dt)\n",
    "            initial_points = []\n",
    "            initial_points.append([init_ds, init_dt])\n",
    "\n",
    "            # 2. alpha in adaboost\n",
    "            m_w = [0., 0.]\n",
    "            EPS = 1e-7\n",
    "            totalWeight = m_w[0] + m_w[1]\n",
    "            if (totalWeight == 0.0 or math.abs(totalWeight) < EPS or math.abs(m_w[0] - m_w[1]) < EPS):\n",
    "                init_ds = 0\n",
    "            else:\n",
    "                init_ds = 0.5 * math.log((m_w[1] + 0.5) / (m_w[0] + 0.5))\n",
    "\n",
    "            init_dt = init_ds ** 2\n",
    "            initial_points.append([init_ds, init_dt])\n",
    "\n",
    "            # 3. most recently used\n",
    "            init_ds = m_ds_last\n",
    "            init_dt = m_dt_last\n",
    "            initial_points.append([init_ds, init_dt])\n",
    "\n",
    "    def _calculate_rho(self):\n",
    "        \"\"\"Calculate rho\n",
    "        Returns\n",
    "        -------\n",
    "        rho: [float, float]\n",
    "        \"\"\"\n",
    "        f1 = math.sqrt(np.exp(2.) * ((self.sigma**2 + 1.) - 1.))\n",
    "        f2 = special.erfinv(1. - self.epsilon)\n",
    "        numerator = f1*f2 + np.e * self.theta\n",
    "        denominator = 2.*(np.e - 1.)\n",
    "        return numerator/denominator\n",
    "    \n",
    "    def _calculate_weight(self, cost, m, t):\n",
    "        mu = self._calculate_mu(self.rho, t)\n",
    "        sigma_sq = self._calculate_sigma_square(t)\n",
    "        if m > mu:\n",
    "            return cost*np.exp(-(m - mu)**2 / sigma_sq)\n",
    "        else:\n",
    "            return 0.0\n",
    "        \n",
    "    def _calculate_sigma_square(self, t):\n",
    "        if t > 1:\n",
    "            return self.sigma**2\n",
    "        else:\n",
    "            return (self.sigma**2 + 1.) * np.exp(2. * (1. - t)) - 1.\n",
    "    \n",
    "    def _calculate_mu(self, t):\n",
    "        if t > 1:\n",
    "            return self.sigma\n",
    "        else:\n",
    "            return (self.theta - 2*self.rho) * np.exp(1. - t) + 2*self.rho"
   ]
  },
  {
   "cell_type": "code",
   "execution_count": null,
   "metadata": {
    "collapsed": true
   },
   "outputs": [],
   "source": [
    "class NewtonRaphsonSolver:\n",
    "    def __self__(m_t, mask, value):\n",
    "        self.RHS_EPS = 1e-7\n",
    "        self.DET_EPS = 1e-7\n",
    "        self.MAX_ITER = 30\n",
    "        self.SQRTPI = math.sqrt(math.pi)\n",
    "        \n",
    "        self.mask = mask\n",
    "        self.value = value\n",
    "        self.t = m_t\n",
    "        self.ds = 0.\n",
    "        self.dt = 0.\n",
    "        self.succeeded = False\n",
    "        \n",
    "    def \n",
    "        "
   ]
  },
  {
   "cell_type": "code",
   "execution_count": 2,
   "metadata": {
    "ExecuteTime": {
     "end_time": "2018-04-04T14:33:55.141250Z",
     "start_time": "2018-04-04T14:33:55.124559Z"
    }
   },
   "outputs": [
    {
     "data": {
      "text/plain": [
       "2.718281828459045"
      ]
     },
     "execution_count": 2,
     "metadata": {},
     "output_type": "execute_result"
    }
   ],
   "source": [
    "np.e"
   ]
  },
  {
   "cell_type": "code",
   "execution_count": 28,
   "metadata": {
    "ExecuteTime": {
     "end_time": "2018-04-05T13:34:39.328488Z",
     "start_time": "2018-04-05T13:34:39.319077Z"
    }
   },
   "outputs": [
    {
     "data": {
      "text/plain": [
       "True"
      ]
     },
     "execution_count": 28,
     "metadata": {},
     "output_type": "execute_result"
    }
   ],
   "source": [
    "math.sqrt(math.pi) == math.sqrt(np.pi)"
   ]
  },
  {
   "cell_type": "code",
   "execution_count": 33,
   "metadata": {
    "ExecuteTime": {
     "end_time": "2018-04-05T13:49:29.124022Z",
     "start_time": "2018-04-05T13:49:29.119272Z"
    }
   },
   "outputs": [],
   "source": [
    "a = []\n",
    "a.append([0., 1.])"
   ]
  },
  {
   "cell_type": "code",
   "execution_count": null,
   "metadata": {
    "collapsed": true
   },
   "outputs": [],
   "source": []
  }
 ],
 "metadata": {
  "kernelspec": {
   "display_name": "Python 3",
   "language": "python",
   "name": "python3"
  },
  "language_info": {
   "codemirror_mode": {
    "name": "ipython",
    "version": 3
   },
   "file_extension": ".py",
   "mimetype": "text/x-python",
   "name": "python",
   "nbconvert_exporter": "python",
   "pygments_lexer": "ipython3",
   "version": "3.6.2"
  },
  "latex_envs": {
   "LaTeX_envs_menu_present": true,
   "autoclose": false,
   "autocomplete": true,
   "bibliofile": "biblio.bib",
   "cite_by": "apalike",
   "current_citInitial": 1,
   "eqLabelWithNumbers": true,
   "eqNumInitial": 1,
   "hotkeys": {
    "equation": "Ctrl-E",
    "itemize": "Ctrl-I"
   },
   "labels_anchors": false,
   "latex_user_defs": false,
   "report_style_numbering": false,
   "user_envs_cfg": false
  },
  "notify_time": "5",
  "toc": {
   "base_numbering": 1,
   "nav_menu": {},
   "number_sections": true,
   "sideBar": true,
   "skip_h1_title": false,
   "title_cell": "Table of Contents",
   "title_sidebar": "Contents",
   "toc_cell": false,
   "toc_position": {},
   "toc_section_display": true,
   "toc_window_display": false
  },
  "varInspector": {
   "cols": {
    "lenName": 16,
    "lenType": 16,
    "lenVar": 40
   },
   "kernels_config": {
    "python": {
     "delete_cmd_postfix": "",
     "delete_cmd_prefix": "del ",
     "library": "var_list.py",
     "varRefreshCmd": "print(var_dic_list())"
    },
    "r": {
     "delete_cmd_postfix": ") ",
     "delete_cmd_prefix": "rm(",
     "library": "var_list.r",
     "varRefreshCmd": "cat(var_dic_list()) "
    }
   },
   "types_to_exclude": [
    "module",
    "function",
    "builtin_function_or_method",
    "instance",
    "_Feature"
   ],
   "window_display": false
  }
 },
 "nbformat": 4,
 "nbformat_minor": 2
}

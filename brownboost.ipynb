{
 "cells": [
  {
   "cell_type": "code",
   "execution_count": 9,
   "metadata": {
    "ExecuteTime": {
     "end_time": "2018-03-29T16:31:59.410976Z",
     "start_time": "2018-03-29T16:31:59.403763Z"
    }
   },
   "outputs": [],
   "source": [
    "import numpy as np\n",
    "from sklearn.tree import DecisionTreeClassifier\n",
    "from sklearn.metrics import classification_report, f1_score, accuracy_score, precision_score, recall_score"
   ]
  },
  {
   "cell_type": "code",
   "execution_count": 10,
   "metadata": {
    "ExecuteTime": {
     "end_time": "2018-03-29T16:31:59.983498Z",
     "start_time": "2018-03-29T16:31:59.975974Z"
    }
   },
   "outputs": [],
   "source": [
    "from sklearn.model_selection import train_test_split\n",
    "from sklearn.datasets import make_hastie_10_2\n",
    "import matplotlib.pyplot as plt\n",
    "import seaborn as sns"
   ]
  },
  {
   "cell_type": "code",
   "execution_count": 11,
   "metadata": {
    "ExecuteTime": {
     "end_time": "2018-03-29T16:32:00.420385Z",
     "start_time": "2018-03-29T16:32:00.415810Z"
    }
   },
   "outputs": [],
   "source": [
    "from brown_boost import BrownBoost"
   ]
  },
  {
   "cell_type": "code",
   "execution_count": 12,
   "metadata": {
    "ExecuteTime": {
     "end_time": "2018-03-29T16:32:00.990806Z",
     "start_time": "2018-03-29T16:32:00.966677Z"
    }
   },
   "outputs": [
    {
     "data": {
      "text/plain": [
       "(12000, 10)"
      ]
     },
     "execution_count": 12,
     "metadata": {},
     "output_type": "execute_result"
    }
   ],
   "source": [
    "x, y = make_hastie_10_2()\n",
    "x.shape"
   ]
  },
  {
   "cell_type": "code",
   "execution_count": 13,
   "metadata": {
    "ExecuteTime": {
     "end_time": "2018-03-29T16:32:02.371832Z",
     "start_time": "2018-03-29T16:32:02.358100Z"
    },
    "scrolled": true
   },
   "outputs": [
    {
     "data": {
      "text/plain": [
       "array([[ 0.38619797,  0.09997474,  0.77907031, ...,  0.87779561,\n",
       "         0.69700987,  0.81355046],\n",
       "       [-0.02298291, -0.0336792 , -1.26628465, ..., -0.37446501,\n",
       "        -0.16577214,  1.20898118],\n",
       "       [-0.52898477,  0.79697207, -0.18547315, ..., -0.03339649,\n",
       "        -0.75133142,  1.08310982],\n",
       "       ..., \n",
       "       [ 0.66675883,  0.04555336,  1.87726095, ..., -1.27163938,\n",
       "         0.45528945,  0.9185723 ],\n",
       "       [-0.40234146, -0.74962961, -0.59675818, ...,  0.73255426,\n",
       "         2.03841367, -0.66340823],\n",
       "       [-0.31107162,  0.19945488,  1.46636189, ..., -1.29829696,\n",
       "        -0.96055057, -0.90056796]])"
      ]
     },
     "execution_count": 13,
     "metadata": {},
     "output_type": "execute_result"
    }
   ],
   "source": [
    "X_train, X_test, y_train, y_test = train_test_split(x, y, test_size=0.2, random_state=1)\n",
    "X_train"
   ]
  },
  {
   "cell_type": "code",
   "execution_count": 15,
   "metadata": {
    "ExecuteTime": {
     "end_time": "2018-03-29T16:34:23.327261Z",
     "start_time": "2018-03-29T16:32:25.530252Z"
    },
    "scrolled": true
   },
   "outputs": [],
   "source": [
    "base_estimator = DecisionTreeClassifier(max_depth=1)\n",
    "clf = BrownBoost(base_estimator, c=1)\n",
    "clf.fit(X_train, y_train)"
   ]
  },
  {
   "cell_type": "code",
   "execution_count": 16,
   "metadata": {
    "ExecuteTime": {
     "end_time": "2018-03-29T16:34:24.325448Z",
     "start_time": "2018-03-29T16:34:23.330248Z"
    }
   },
   "outputs": [
    {
     "name": "stdout",
     "output_type": "stream",
     "text": [
      "mean accuracy : 0.9683 \n",
      "\n"
     ]
    },
    {
     "data": {
      "text/plain": [
       "(0.97169811320754718, 0.96343537414965985, 0.96754910333048672)"
      ]
     },
     "execution_count": 16,
     "metadata": {},
     "output_type": "execute_result"
    }
   ],
   "source": [
    "prediction = clf.predict(X_test)\n",
    "accuracy = accuracy_score(y_test, prediction)\n",
    "precision = precision_score(y_test, prediction, pos_label=1, labels=[-1, 1])\n",
    "recall = recall_score(y_test, prediction, pos_label=1, labels=[-1, 1])\n",
    "clf_f1_score = f1_score(y_test, prediction, pos_label=1, labels=[-1, 1])\n",
    "print(\"mean accuracy : %.4f \\n\" % accuracy)\n",
    "precision, recall, clf_f1_score"
   ]
  },
  {
   "cell_type": "code",
   "execution_count": 21,
   "metadata": {
    "ExecuteTime": {
     "end_time": "2018-03-29T16:36:01.181353Z",
     "start_time": "2018-03-29T16:36:01.177037Z"
    }
   },
   "outputs": [],
   "source": [
    "base_estimator = DecisionTreeClassifier(max_depth=1)\n",
    "clf = BrownBoost(base_estimator, c=3, max_iter=50000)\n",
    "clf.fit(X_train, y_train)"
   ]
  },
  {
   "cell_type": "code",
   "execution_count": 8,
   "metadata": {
    "ExecuteTime": {
     "end_time": "2018-03-29T13:10:53.222340Z",
     "start_time": "2018-03-29T13:10:43.956018Z"
    }
   },
   "outputs": [
    {
     "name": "stdout",
     "output_type": "stream",
     "text": [
      "mean accuracy : 0.9712 \n",
      "\n"
     ]
    },
    {
     "data": {
      "text/plain": [
       "(0.97341337907375647, 0.96760443307757882, 0.97050021376656692)"
      ]
     },
     "execution_count": 8,
     "metadata": {},
     "output_type": "execute_result"
    }
   ],
   "source": [
    "prediction = clf.predict(X_test)\n",
    "accuracy = accuracy_score(y_test, prediction)\n",
    "precision = precision_score(y_test, prediction, pos_label=1, labels=[-1, 1])\n",
    "recall = recall_score(y_test, prediction, pos_label=1, labels=[-1, 1])\n",
    "clf_f1_score = f1_score(y_test, prediction, pos_label=1, labels=[-1, 1])\n",
    "print(\"mean accuracy : %.4f \\n\" % accuracy)\n",
    "precision, recall, clf_f1_score"
   ]
  }
 ],
 "metadata": {
  "hide_input": false,
  "kernelspec": {
   "display_name": "Python 3",
   "language": "python",
   "name": "python3"
  },
  "language_info": {
   "codemirror_mode": {
    "name": "ipython",
    "version": 3
   },
   "file_extension": ".py",
   "mimetype": "text/x-python",
   "name": "python",
   "nbconvert_exporter": "python",
   "pygments_lexer": "ipython3",
   "version": "3.6.3"
  },
  "latex_envs": {
   "LaTeX_envs_menu_present": true,
   "autoclose": false,
   "autocomplete": true,
   "bibliofile": "biblio.bib",
   "cite_by": "apalike",
   "current_citInitial": 1,
   "eqLabelWithNumbers": true,
   "eqNumInitial": 1,
   "hotkeys": {
    "equation": "Ctrl-E",
    "itemize": "Ctrl-I"
   },
   "labels_anchors": false,
   "latex_user_defs": false,
   "report_style_numbering": false,
   "user_envs_cfg": false
  },
  "notify_time": "5",
  "toc": {
   "nav_menu": {},
   "number_sections": true,
   "sideBar": true,
   "skip_h1_title": false,
   "title_cell": "Table of Contents",
   "title_sidebar": "Contents",
   "toc_cell": false,
   "toc_position": {},
   "toc_section_display": true,
   "toc_window_display": false
  }
 },
 "nbformat": 4,
 "nbformat_minor": 2
}
